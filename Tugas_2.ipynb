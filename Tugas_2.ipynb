{
  "nbformat": 4,
  "nbformat_minor": 0,
  "metadata": {
    "colab": {
      "provenance": [],
      "authorship_tag": "ABX9TyPyyhy9tTz5PZOmuYtuejDO",
      "include_colab_link": true
    },
    "kernelspec": {
      "name": "python3",
      "display_name": "Python 3"
    },
    "language_info": {
      "name": "python"
    }
  },
  "cells": [
    {
      "cell_type": "markdown",
      "metadata": {
        "id": "view-in-github",
        "colab_type": "text"
      },
      "source": [
        "<a href=\"https://colab.research.google.com/github/arilprtm/Pemerograman-Dasar/blob/main/Tugas_2.ipynb\" target=\"_parent\"><img src=\"https://colab.research.google.com/assets/colab-badge.svg\" alt=\"Open In Colab\"/></a>"
      ]
    },
    {
      "cell_type": "code",
      "execution_count": null,
      "metadata": {
        "colab": {
          "base_uri": "https://localhost:8080/"
        },
        "id": "rQcrZ_CCr1ta",
        "outputId": "8e484de2-cd9f-4dad-d39f-fc94f99d4640"
      },
      "outputs": [
        {
          "output_type": "stream",
          "name": "stdout",
          "text": [
            "First Name : Aril | Tipe: <class 'str'>\n",
            "Last Name  : Pratama | Tipe: <class 'str'>\n",
            "Age        : 20 | Tipe: <class 'int'>\n",
            "Is Married : False | Tipe: <class 'bool'>\n"
          ]
        }
      ],
      "source": [
        "firstName = \"Aril\"      # string\n",
        "lastName = \"Pratama\"    # string\n",
        "age = 20                # integer\n",
        "isMarried = False       # boolean (True = sudah menikah, False = belum menikah)\n",
        "\n",
        "\n",
        "print(\"First Name :\", firstName, \"| Tipe:\", type(firstName))\n",
        "print(\"Last Name  :\", lastName,  \"| Tipe:\", type(lastName))\n",
        "print(\"Age        :\", age,       \"| Tipe:\", type(age))\n",
        "print(\"Is Married :\", isMarried, \"| Tipe:\", type(isMarried))\n",
        "\n",
        "\n"
      ]
    },
    {
      "cell_type": "code",
      "source": [
        "data_diri = {\n",
        "    \"firstName\": \"Aril\",     # string\n",
        "    \"lastName\": \"Pratama\",   # string\n",
        "    \"age\": 20,               # integer\n",
        "    \"isMarried\": False       # boolean (True = sudah menikah, False = belum menikah)\n",
        "}\n",
        "\n",
        "print(\"Data Diri:\", data_diri)\n",
        "for key, value in data_diri.items():\n",
        "    print(f\"{key} : {value} | tipe data = {type(value)}\")\n",
        "\n"
      ],
      "metadata": {
        "colab": {
          "base_uri": "https://localhost:8080/"
        },
        "id": "cxuP0hL3tqiI",
        "outputId": "c5e84f7b-28d1-4d4b-e90f-9ad2221f01a4"
      },
      "execution_count": null,
      "outputs": [
        {
          "output_type": "stream",
          "name": "stdout",
          "text": [
            "Data Diri: {'firstName': 'Aril', 'lastName': 'Pratama', 'age': 20, 'isMarried': False}\n",
            "firstName : Aril | tipe data = <class 'str'>\n",
            "lastName : Pratama | tipe data = <class 'str'>\n",
            "age : 20 | tipe data = <class 'int'>\n",
            "isMarried : False | tipe data = <class 'bool'>\n"
          ]
        }
      ]
    },
    {
      "cell_type": "code",
      "source": [
        "inspeksi = [\n",
        "    \"pemahaman terhadap rencana dan desain\",\n",
        "    \"ketersediaan bahan dan peralatan\",\n",
        "    \"pengawasan pekerjaan\",\n",
        "    \"kualitas konstruksi\",\n",
        "    \"keselamatan kerja\",\n",
        "    \"koordinasi dengan pemilik proyek\"\n",
        "]\n",
        "\n",
        "print(\"Daftar Inspeksi:\")\n",
        "for item in inspeksi:\n",
        "    print(\"-\", item)\n"
      ],
      "metadata": {
        "colab": {
          "base_uri": "https://localhost:8080/"
        },
        "id": "iUe_0yu3vF7o",
        "outputId": "00af7891-f288-4f4c-a30e-09d9f72e89c8"
      },
      "execution_count": null,
      "outputs": [
        {
          "output_type": "stream",
          "name": "stdout",
          "text": [
            "Daftar Inspeksi:\n",
            "- pemahaman terhadap rencana dan desain\n",
            "- ketersediaan bahan dan peralatan\n",
            "- pengawasan pekerjaan\n",
            "- kualitas konstruksi\n",
            "- keselamatan kerja\n",
            "- koordinasi dengan pemilik proyek\n"
          ]
        }
      ]
    },
    {
      "cell_type": "code",
      "source": [
        "startTime = {\n",
        "    \"HH\": 9,\n",
        "    \"mm\": 23,\n",
        "    \"ss\": 57\n",
        "}\n",
        "\n",
        "endTime = {\n",
        "    \"HH\": 15,\n",
        "    \"mm\": 25,\n",
        "    \"ss\": 43\n",
        "}\n",
        "\n",
        "print(\"Waktu Datang (startTime):\", startTime)\n",
        "print(\"Waktu Pulang (endTime)  :\", endTime)\n",
        "print(\"\\nFormat Jam:\")\n",
        "print(f\"Datang : {startTime['HH']:02d}:{startTime['mm']:02d}:{startTime['ss']:02d}\")\n",
        "print(f\"Pulang : {endTime['HH']:02d}:{endTime['mm']:02d}:{endTime['ss']:02d}\")\n"
      ],
      "metadata": {
        "colab": {
          "base_uri": "https://localhost:8080/"
        },
        "id": "U1Lluf-bvcbV",
        "outputId": "5ca44e54-cfae-4b1d-da67-25c7bf3f9e64"
      },
      "execution_count": null,
      "outputs": [
        {
          "output_type": "stream",
          "name": "stdout",
          "text": [
            "Waktu Datang (startTime): {'HH': 9, 'mm': 23, 'ss': 57}\n",
            "Waktu Pulang (endTime)  : {'HH': 15, 'mm': 25, 'ss': 43}\n",
            "\n",
            "Format Jam:\n",
            "Datang : 09:23:57\n",
            "Pulang : 15:25:43\n"
          ]
        }
      ]
    },
    {
      "cell_type": "code",
      "source": [
        "\"\"\"\n",
        "STUDI KASUS : PENGGABUNGAN DAN ANALISIS KATALOG PRODUK\n",
        "\"\"\"\n",
        "\n",
        "# Katalog produk dari dua pemasok\n",
        "katalog_A = {\"Laptop\", \"Mouse\", \"Keyboard\", \"Monitor\"}\n",
        "katalog_B = {\"Printer\", \"Mouse\", \"Scanner\", \"Laptop\"}\n",
        "\n",
        "# Daftar produk diskon (tuple)\n",
        "produk_diskon = (\"Laptop\", \"Monitor\", \"Scanner\")\n",
        "\n",
        "# 1. Gabungkan katalog_A dan katalog_B\n",
        "katalog_lengkap = katalog_A.union(katalog_B)\n",
        "\n",
        "# 2. Cari produk yang ada di katalog_lengkap dan juga ada di produk_diskon\n",
        "produk_promo_aktif = katalog_lengkap.intersection(produk_diskon)\n",
        "\n",
        "\n",
        "print(\"Katalog A :\", katalog_A)\n",
        "print(\"Katalog B :\", katalog_B)\n",
        "print(\"Produk Diskon :\", produk_diskon)\n",
        "print(\"Katalog Lengkap :\", katalog_lengkap)\n",
        "print(\"Produk Promo Aktif :\", produk_promo_aktif)\n"
      ],
      "metadata": {
        "colab": {
          "base_uri": "https://localhost:8080/"
        },
        "id": "Dg3qMUKGw3l9",
        "outputId": "fbcbd4d7-c68d-4a6f-b604-7d4adc821375"
      },
      "execution_count": null,
      "outputs": [
        {
          "output_type": "stream",
          "name": "stdout",
          "text": [
            "Katalog A : {'Mouse', 'Keyboard', 'Monitor', 'Laptop'}\n",
            "Katalog B : {'Mouse', 'Scanner', 'Laptop', 'Printer'}\n",
            "Produk Diskon : ('Laptop', 'Monitor', 'Scanner')\n",
            "Katalog Lengkap : {'Laptop', 'Mouse', 'Scanner', 'Monitor', 'Printer', 'Keyboard'}\n",
            "Produk Promo Aktif : {'Scanner', 'Monitor', 'Laptop'}\n"
          ]
        }
      ]
    }
  ]
}