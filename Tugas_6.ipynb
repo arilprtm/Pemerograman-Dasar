{
  "nbformat": 4,
  "nbformat_minor": 0,
  "metadata": {
    "colab": {
      "provenance": [],
      "authorship_tag": "ABX9TyOnbdeuZe2v2LfIFgi0SAaO",
      "include_colab_link": true
    },
    "kernelspec": {
      "name": "python3",
      "display_name": "Python 3"
    },
    "language_info": {
      "name": "python"
    }
  },
  "cells": [
    {
      "cell_type": "markdown",
      "metadata": {
        "id": "view-in-github",
        "colab_type": "text"
      },
      "source": [
        "<a href=\"https://colab.research.google.com/github/arilprtm/Pemerograman-Dasar/blob/main/Tugas_6.ipynb\" target=\"_parent\"><img src=\"https://colab.research.google.com/assets/colab-badge.svg\" alt=\"Open In Colab\"/></a>"
      ]
    },
    {
      "cell_type": "code",
      "source": [
        "print(\"=== PROGRAM PENENTUAN GRADE NILAI ===\")\n",
        "\n",
        "# Input nilai dari pengguna\n",
        "nilai = float(input(\"Masukkan nilai Anda: \"))\n",
        "\n",
        "# Percabangan if, elif, else\n",
        "if nilai >= 90:\n",
        "    grade = \"A\"\n",
        "    keterangan = \"Sangat Baik\"\n",
        "elif nilai >= 80:\n",
        "    grade = \"B\"\n",
        "    keterangan = \"Baik\"\n",
        "elif nilai >= 70:\n",
        "    grade = \"C\"\n",
        "    keterangan = \"Cukup\"\n",
        "elif nilai >= 60:\n",
        "    grade = \"D\"\n",
        "    keterangan = \"Kurang\"\n",
        "else:\n",
        "    grade = \"E\"\n",
        "    keterangan = \"Tidak Lulus\"\n",
        "\n",
        "# Tampilkan hasil\n",
        "print(\"\\n=== HASIL PENILAIAN ===\")\n",
        "print(\"Nilai Anda :\", nilai)\n",
        "print(\"Grade Anda :\", grade)\n",
        "print(\"Keterangan :\", keterangan)\n"
      ],
      "metadata": {
        "colab": {
          "base_uri": "https://localhost:8080/"
        },
        "id": "stS4s4q76eBo",
        "outputId": "d20d2412-e9ed-4b22-a42c-4ec80958c0a7"
      },
      "execution_count": 1,
      "outputs": [
        {
          "output_type": "stream",
          "name": "stdout",
          "text": [
            "=== PROGRAM PENENTUAN GRADE NILAI ===\n",
            "Masukkan nilai Anda: 85\n",
            "\n",
            "=== HASIL PENILAIAN ===\n",
            "Nilai Anda : 85.0\n",
            "Grade Anda : B\n",
            "Keterangan : Baik\n"
          ]
        }
      ]
    },
    {
      "cell_type": "code",
      "source": [
        "print(\"=== PERULANGAN FOR ===\")\n",
        "\n",
        "total = 0\n",
        "\n",
        "for i in range(2, 11, 2):\n",
        "    print(\"Bilangan genap ke-\", i)\n",
        "    total += i\n",
        "\n",
        "print(\"Total jumlah bilangan genap:\", total)\n"
      ],
      "metadata": {
        "colab": {
          "base_uri": "https://localhost:8080/"
        },
        "id": "yJBSbK6i7EKB",
        "outputId": "e4e2711b-6f8f-4e30-c2b1-2a12faf75ed6"
      },
      "execution_count": 5,
      "outputs": [
        {
          "output_type": "stream",
          "name": "stdout",
          "text": [
            "=== PERULANGAN FOR ===\n",
            "Bilangan genap ke- 2\n",
            "Bilangan genap ke- 4\n",
            "Bilangan genap ke- 6\n",
            "Bilangan genap ke- 8\n",
            "Bilangan genap ke- 10\n",
            "Total jumlah bilangan genap: 30\n"
          ]
        }
      ]
    },
    {
      "cell_type": "code",
      "source": [
        "print(\"\\n=== PERULANGAN WHILE ===\")\n",
        "\n",
        "hitung = 5\n",
        "\n",
        "while hitung > 0:\n",
        "    print(\"Hitung mundur:\", hitung)\n",
        "    hitung -= 1  # mengurangi nilai setiap perulangan\n",
        "\n",
        "print(\"Selesai!\")\n"
      ],
      "metadata": {
        "colab": {
          "base_uri": "https://localhost:8080/"
        },
        "id": "ls9DB0vbsqCd",
        "outputId": "c5476a85-c401-4486-bebf-c97798872e82"
      },
      "execution_count": 6,
      "outputs": [
        {
          "output_type": "stream",
          "name": "stdout",
          "text": [
            "\n",
            "=== PERULANGAN WHILE ===\n",
            "Hitung mundur: 5\n",
            "Hitung mundur: 4\n",
            "Hitung mundur: 3\n",
            "Hitung mundur: 2\n",
            "Hitung mundur: 1\n",
            "Selesai!\n"
          ]
        }
      ]
    },
    {
      "cell_type": "code",
      "source": [
        "print(\"=== PENGGUNAAN TIPE DATA PRIMITIF ===\")\n",
        "\n",
        "# --- TIPE DATA PRIMITIF ---\n",
        "# (int, float, string, dan boolean)\n",
        "nama = \"Aril\"\n",
        "umur = 20\n",
        "tinggi = 170.5\n",
        "isMahasiswa = True\n",
        "\n",
        "print(\"\\n--- Tipe Data Primitif ---\")\n",
        "print(\"Nama:\", nama)\n",
        "print(\"Umur:\", umur)\n",
        "print(\"Tinggi Badan:\", tinggi)\n",
        "print(\"Mahasiswa:\", isMahasiswa)\n",
        "\n",
        "# Operasi sederhana pada tipe data primitif\n",
        "print(\"\\nUmur tahun depan:\", umur + 1)\n",
        "print(\"Apakah tinggi lebih dari 160 cm?\", tinggi > 160)\n"
      ],
      "metadata": {
        "colab": {
          "base_uri": "https://localhost:8080/"
        },
        "id": "8XBzTs2Iuprd",
        "outputId": "0696d40c-80eb-4dfb-a702-16fceed98cef"
      },
      "execution_count": 8,
      "outputs": [
        {
          "output_type": "stream",
          "name": "stdout",
          "text": [
            "=== PENGGUNAAN TIPE DATA PRIMITIF DAN NON-PRIMITIF ===\n",
            "\n",
            "--- Tipe Data Primitif ---\n",
            "Nama: Aril\n",
            "Umur: 20\n",
            "Tinggi Badan: 170.5\n",
            "Mahasiswa: True\n",
            "\n",
            "Umur tahun depan: 21\n",
            "Apakah tinggi lebih dari 160 cm? True\n"
          ]
        }
      ]
    },
    {
      "cell_type": "code",
      "source": [
        "print(\"=== PENGGUNAAN TIPE DATA NON-PRIMITIF ===\")\n",
        "# --- TIPE DATA NON-PRIMITIF ---\n",
        "# (list, tuple, set, dan dictionary)\n",
        "buah = [\"apel\", \"jeruk\", \"mangga\"]       # list\n",
        "angka_tetap = (10, 20, 30)               # tuple\n",
        "warna = {\"merah\", \"biru\", \"hijau\"}       # set\n",
        "data_diri = {\"nama\": \"Aril\", \"umur\": 20, \"kota\": \"Batam\"}  # dictionary\n",
        "\n",
        "print(\"\\n--- Tipe Data Non-Primitif ---\")\n",
        "print(\"List Buah:\", buah)\n",
        "print(\"Tuple Angka:\", angka_tetap)\n",
        "print(\"Set Warna:\", warna)\n",
        "print(\"Dictionary Data Diri:\", data_diri)\n",
        "\n",
        "# Operasi sederhana pada tipe data non-primitif\n",
        "buah.append(\"pisang\")  # menambah item ke list\n",
        "print(\"\\nList buah setelah ditambah:\", buah)\n",
        "\n",
        "print(\"Umur dari dictionary:\", data_diri[\"umur\"])\n"
      ],
      "metadata": {
        "colab": {
          "base_uri": "https://localhost:8080/"
        },
        "id": "NnxyfeXy98ME",
        "outputId": "0dd74929-2095-48bc-fe1e-bd4ee4e0022f"
      },
      "execution_count": 10,
      "outputs": [
        {
          "output_type": "stream",
          "name": "stdout",
          "text": [
            "=== PENGGUNAAN TIPE DATA NON-PRIMITIF ===\n",
            "\n",
            "--- Tipe Data Non-Primitif ---\n",
            "List Buah: ['apel', 'jeruk', 'mangga']\n",
            "Tuple Angka: (10, 20, 30)\n",
            "Set Warna: {'biru', 'merah', 'hijau'}\n",
            "Dictionary Data Diri: {'nama': 'Aril', 'umur': 20, 'kota': 'Batam'}\n",
            "\n",
            "List buah setelah ditambah: ['apel', 'jeruk', 'mangga', 'pisang']\n",
            "Umur dari dictionary: 20\n"
          ]
        }
      ]
    }
  ]
}