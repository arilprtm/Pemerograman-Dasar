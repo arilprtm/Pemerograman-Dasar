{
  "nbformat": 4,
  "nbformat_minor": 0,
  "metadata": {
    "colab": {
      "provenance": [],
      "authorship_tag": "ABX9TyPwHKZanb++ZVGDE89uxhLs",
      "include_colab_link": true
    },
    "kernelspec": {
      "name": "python3",
      "display_name": "Python 3"
    },
    "language_info": {
      "name": "python"
    }
  },
  "cells": [
    {
      "cell_type": "markdown",
      "metadata": {
        "id": "view-in-github",
        "colab_type": "text"
      },
      "source": [
        "<a href=\"https://colab.research.google.com/github/arilprtm/Pemerograman-Dasar/blob/main/Tugas_6.ipynb\" target=\"_parent\"><img src=\"https://colab.research.google.com/assets/colab-badge.svg\" alt=\"Open In Colab\"/></a>"
      ]
    },
    {
      "cell_type": "code",
      "execution_count": null,
      "metadata": {
        "colab": {
          "base_uri": "https://localhost:8080/"
        },
        "id": "8_fm_4KaqAPN",
        "outputId": "ed8f5377-f41c-47cb-eb06-08cdf7d8e269"
      },
      "outputs": [
        {
          "output_type": "stream",
          "name": "stdout",
          "text": [
            "Nilai A\n"
          ]
        }
      ],
      "source": [
        "def cek_nilai(nilai):\n",
        "    if nilai >= 90:\n",
        "        print(\"Nilai A\")\n",
        "    elif nilai >= 75:\n",
        "        print(\"Nilai B\")\n",
        "    else:\n",
        "        print(\"Nilai C\")\n",
        "\n",
        "cek_nilai(91)\n"
      ]
    },
    {
      "cell_type": "code",
      "source": [
        "def hitung_total(daftar_angka):\n",
        "    total = 0\n",
        "    for angka in daftar_angka:\n",
        "        total += angka\n",
        "    print(\"Total:\", total)\n",
        "\n",
        "hitung_total([2, 4, 6, 10])\n"
      ],
      "metadata": {
        "colab": {
          "base_uri": "https://localhost:8080/"
        },
        "id": "O1lgE6C7sgzS",
        "outputId": "0b7719eb-a897-470c-bafc-c56e0df6a7d8"
      },
      "execution_count": null,
      "outputs": [
        {
          "output_type": "stream",
          "name": "stdout",
          "text": [
            "Total: 22\n"
          ]
        }
      ]
    },
    {
      "cell_type": "code",
      "source": [
        "def hitung_mundur(n):\n",
        "    while n > 0:\n",
        "        print(n)\n",
        "        n -= 1\n",
        "    print(\"Waktu Habis!\")\n",
        "\n",
        "hitung_mundur(5)\n"
      ],
      "metadata": {
        "colab": {
          "base_uri": "https://localhost:8080/"
        },
        "id": "ls9DB0vbsqCd",
        "outputId": "6069a306-46e4-41f2-b85d-6611c1cd9a5e"
      },
      "execution_count": null,
      "outputs": [
        {
          "output_type": "stream",
          "name": "stdout",
          "text": [
            "5\n",
            "4\n",
            "3\n",
            "2\n",
            "1\n",
            "Waktu Habis!\n"
          ]
        }
      ]
    },
    {
      "cell_type": "code",
      "source": [
        "def data_mahasiswa():\n",
        "    nama = \"Aril\"                # string\n",
        "    umur = 20                    # int\n",
        "    aktif = True                 # boolean\n",
        "    nilai = [80, 85, 90]         # list\n",
        "    identitas = (\"ELEKTRO\", 2025)        # tuple\n",
        "    info = {\"Nama\": nama, \"Umur\": umur}  # dictionary\n",
        "    hobi = {\"coding\", \"makan\"}   # set\n",
        "\n",
        "    print(\"Nama:\", info[\"Nama\"])\n",
        "    print(\"umur :\", umur)\n",
        "    print(\"Program Studi:\", identitas[0])\n",
        "    print(\"Hobi:\", hobi)\n",
        "    print(\"Rata-rata nilai:\", sum(nilai)/len(nilai))\n",
        "\n",
        "data_mahasiswa()\n"
      ],
      "metadata": {
        "colab": {
          "base_uri": "https://localhost:8080/"
        },
        "id": "8XBzTs2Iuprd",
        "outputId": "27ac76c7-da6a-4cbf-9c61-9a9f4b8b9a4a"
      },
      "execution_count": null,
      "outputs": [
        {
          "output_type": "stream",
          "name": "stdout",
          "text": [
            "Nama: Aril\n",
            "umur : 20\n",
            "Program Studi: ELEKTRO\n",
            "Hobi: {'makan', 'coding'}\n",
            "Rata-rata nilai: 85.0\n"
          ]
        }
      ]
    }
  ]
}