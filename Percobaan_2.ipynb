{
  "nbformat": 4,
  "nbformat_minor": 0,
  "metadata": {
    "colab": {
      "provenance": [],
      "authorship_tag": "ABX9TyN+9yVBQA3C6JHqHjl5HbVe",
      "include_colab_link": true
    },
    "kernelspec": {
      "name": "python3",
      "display_name": "Python 3"
    },
    "language_info": {
      "name": "python"
    }
  },
  "cells": [
    {
      "cell_type": "markdown",
      "metadata": {
        "id": "view-in-github",
        "colab_type": "text"
      },
      "source": [
        "<a href=\"https://colab.research.google.com/github/arilprtm/Pemerograman-Dasar/blob/main/Percobaan_2.ipynb\" target=\"_parent\"><img src=\"https://colab.research.google.com/assets/colab-badge.svg\" alt=\"Open In Colab\"/></a>"
      ]
    },
    {
      "cell_type": "code",
      "execution_count": null,
      "metadata": {
        "colab": {
          "base_uri": "https://localhost:8080/"
        },
        "id": "2bq1da0JSlxg",
        "outputId": "e8d4a696-4db4-4614-dbe5-81bec3cbe7d5"
      },
      "outputs": [
        {
          "output_type": "stream",
          "name": "stdout",
          "text": [
            "<class 'int'>\n",
            "<class 'float'>\n"
          ]
        }
      ],
      "source": [
        "age = 15\n",
        "salary = 3000000.0\n",
        "\n",
        "print(type(age))\n",
        "print(type(salary))\n"
      ]
    },
    {
      "cell_type": "code",
      "source": [
        "x = 9\n",
        "print(type(x))\n",
        "\n",
        "x = 5.0\n",
        "print(type(x))\n",
        "\n",
        "x = 2+3j\n",
        "print(type(x))"
      ],
      "metadata": {
        "colab": {
          "base_uri": "https://localhost:8080/"
        },
        "id": "feXBjQu5ZXud",
        "outputId": "8ec307c1-38bb-49da-f84c-e358af21df15"
      },
      "execution_count": null,
      "outputs": [
        {
          "output_type": "stream",
          "name": "stdout",
          "text": [
            "<class 'int'>\n",
            "<class 'float'>\n",
            "<class 'complex'>\n"
          ]
        }
      ]
    },
    {
      "cell_type": "code",
      "source": [
        "var = 9\n",
        "print(var)\n",
        "print(id(var))\n",
        "var = 10\n",
        "print(var)\n",
        "print(id(var))"
      ],
      "metadata": {
        "colab": {
          "base_uri": "https://localhost:8080/"
        },
        "id": "a0bx7bYBZ6y5",
        "outputId": "7e10d3f4-10f1-4a5c-ec61-d0d89cf8f506"
      },
      "execution_count": null,
      "outputs": [
        {
          "output_type": "stream",
          "name": "stdout",
          "text": [
            "9\n",
            "11642344\n",
            "10\n",
            "11642376\n"
          ]
        }
      ]
    },
    {
      "cell_type": "code",
      "source": [
        "x = True\n",
        "print(type(x))\n",
        "\n",
        "x = False\n",
        "print(type(x))"
      ],
      "metadata": {
        "colab": {
          "base_uri": "https://localhost:8080/"
        },
        "id": "cGUk08FsaNRS",
        "outputId": "f20c72fd-4a0f-438c-9aec-8fdc355e139d"
      },
      "execution_count": null,
      "outputs": [
        {
          "output_type": "stream",
          "name": "stdout",
          "text": [
            "<class 'bool'>\n",
            "<class 'bool'>\n"
          ]
        }
      ]
    },
    {
      "cell_type": "code",
      "source": [
        "x = 'politeknikbatam'\n",
        "print(type(x))"
      ],
      "metadata": {
        "colab": {
          "base_uri": "https://localhost:8080/"
        },
        "id": "Qc4F6tYNapom",
        "outputId": "d840cf39-d5c1-4ef9-f514-8e083f674dcd"
      },
      "execution_count": null,
      "outputs": [
        {
          "output_type": "stream",
          "name": "stdout",
          "text": [
            "<class 'str'>\n"
          ]
        }
      ]
    },
    {
      "cell_type": "code",
      "source": [
        "multi_line = \"\"\"Halo!\n",
        "Kenapa aqsa draksistem?\n",
        "karena emang darksistem loo.\"\"\"\n",
        "\n",
        "print(multi_line)"
      ],
      "metadata": {
        "colab": {
          "base_uri": "https://localhost:8080/"
        },
        "id": "KqAtCqVCa2tH",
        "outputId": "87e8d56d-1967-42b0-88f3-3fd1f9b84794"
      },
      "execution_count": null,
      "outputs": [
        {
          "output_type": "stream",
          "name": "stdout",
          "text": [
            "Halo!\n",
            "Kenapa aqsa draksistem?\n",
            "karena emang darksistem loo.\n"
          ]
        }
      ]
    },
    {
      "cell_type": "code",
      "source": [
        "x = 'Aqsazenara'\n",
        "print(x[0])"
      ],
      "metadata": {
        "colab": {
          "base_uri": "https://localhost:8080/"
        },
        "id": "d-JYTIr8bWd-",
        "outputId": "3280ebfe-b860-4a2c-8242-53c5c6371b10"
      },
      "execution_count": null,
      "outputs": [
        {
          "output_type": "stream",
          "name": "stdout",
          "text": [
            "A\n"
          ]
        }
      ]
    },
    {
      "cell_type": "code",
      "source": [
        "x = 'Aqsajelek'\n",
        "x[0] = 'R'"
      ],
      "metadata": {
        "colab": {
          "base_uri": "https://localhost:8080/",
          "height": 158
        },
        "id": "D9r69U-RbmYl",
        "outputId": "9e728316-04ed-42b8-f780-8800191e0c0d"
      },
      "execution_count": null,
      "outputs": [
        {
          "output_type": "error",
          "ename": "TypeError",
          "evalue": "'str' object does not support item assignment",
          "traceback": [
            "\u001b[0;31m---------------------------------------------------------------------------\u001b[0m",
            "\u001b[0;31mTypeError\u001b[0m                                 Traceback (most recent call last)",
            "\u001b[0;32m/tmp/ipython-input-1636311381.py\u001b[0m in \u001b[0;36m<cell line: 0>\u001b[0;34m()\u001b[0m\n\u001b[1;32m      1\u001b[0m \u001b[0mx\u001b[0m \u001b[0;34m=\u001b[0m \u001b[0;34m'Aqsajelek'\u001b[0m\u001b[0;34m\u001b[0m\u001b[0;34m\u001b[0m\u001b[0m\n\u001b[0;32m----> 2\u001b[0;31m \u001b[0mx\u001b[0m\u001b[0;34m[\u001b[0m\u001b[0;36m0\u001b[0m\u001b[0;34m]\u001b[0m \u001b[0;34m=\u001b[0m \u001b[0;34m'R'\u001b[0m\u001b[0;34m\u001b[0m\u001b[0;34m\u001b[0m\u001b[0m\n\u001b[0m",
            "\u001b[0;31mTypeError\u001b[0m: 'str' object does not support item assignment"
          ]
        }
      ]
    },
    {
      "cell_type": "code",
      "source": [
        "x = 'aqsajelek123'\n",
        "print(x[2:])"
      ],
      "metadata": {
        "colab": {
          "base_uri": "https://localhost:8080/"
        },
        "id": "qEEXF61wb6hK",
        "outputId": "8e8fe613-49d5-46c6-9589-cfe370e56f8f"
      },
      "execution_count": null,
      "outputs": [
        {
          "output_type": "stream",
          "name": "stdout",
          "text": [
            "sajelek123\n"
          ]
        }
      ]
    },
    {
      "cell_type": "code",
      "source": [
        "name = \"aqsafomo\"\n",
        "print(f\"Hello, nama saya {name}\")"
      ],
      "metadata": {
        "colab": {
          "base_uri": "https://localhost:8080/"
        },
        "id": "Gn_RILuNcPmb",
        "outputId": "ab45a64c-ab74-4c95-b507-4e5951cead2f"
      },
      "execution_count": null,
      "outputs": [
        {
          "output_type": "stream",
          "name": "stdout",
          "text": [
            "Hello, nama saya aqsafomo\n"
          ]
        }
      ]
    },
    {
      "cell_type": "code",
      "source": [
        "name = \"aqsafomo\"\n",
        "print(\"nama saya %s\" % (name))"
      ],
      "metadata": {
        "colab": {
          "base_uri": "https://localhost:8080/"
        },
        "id": "JDJjPLU5cr3e",
        "outputId": "21659088-b2c3-4f17-8246-276d94d525ff"
      },
      "execution_count": null,
      "outputs": [
        {
          "output_type": "stream",
          "name": "stdout",
          "text": [
            "nama saya aqsafomo\n"
          ]
        }
      ]
    },
    {
      "cell_type": "code",
      "source": [
        "name = \"kinop\"\n",
        "print(\"nama saya {}\".format(name))"
      ],
      "metadata": {
        "colab": {
          "base_uri": "https://localhost:8080/"
        },
        "id": "I-kwFI5heuOu",
        "outputId": "394ee068-a875-44f6-dd8b-103c7f6d261e"
      },
      "execution_count": null,
      "outputs": [
        {
          "output_type": "stream",
          "name": "stdout",
          "text": [
            "nama saya kinop\n"
          ]
        }
      ]
    },
    {
      "cell_type": "code",
      "source": [
        "nama = \"andi\"\n",
        "print(\"nama saya :\", nama)"
      ],
      "metadata": {
        "colab": {
          "base_uri": "https://localhost:8080/"
        },
        "id": "IrjhbO9Le8rD",
        "outputId": "6747fdf7-3301-4240-dff8-b83024cc3404"
      },
      "execution_count": null,
      "outputs": [
        {
          "output_type": "stream",
          "name": "stdout",
          "text": [
            "nama saya : andi\n"
          ]
        }
      ]
    },
    {
      "cell_type": "code",
      "source": [
        "x = [1, 2.2, 'Aqsabatam']\n",
        "print(type(x))"
      ],
      "metadata": {
        "colab": {
          "base_uri": "https://localhost:8080/"
        },
        "id": "0zaYOGENl7Yf",
        "outputId": "d88e7416-0ed2-4205-8532-0bd829f604c3"
      },
      "execution_count": null,
      "outputs": [
        {
          "output_type": "stream",
          "name": "stdout",
          "text": [
            "<class 'list'>\n"
          ]
        }
      ]
    },
    {
      "cell_type": "code",
      "source": [
        "x = [2, 3.3, 'Reminder']\n",
        "print(x)"
      ],
      "metadata": {
        "colab": {
          "base_uri": "https://localhost:8080/"
        },
        "id": "GGgg6uCEmPRL",
        "outputId": "6ec2b1f6-7f17-4860-ff03-ab30fa340e5e"
      },
      "execution_count": null,
      "outputs": [
        {
          "output_type": "stream",
          "name": "stdout",
          "text": [
            "[2, 3.3, 'Reminder']\n"
          ]
        }
      ]
    },
    {
      "cell_type": "code",
      "source": [
        "x = [1, 'elektro', True, 2.0]\n",
        "print(x[1])"
      ],
      "metadata": {
        "colab": {
          "base_uri": "https://localhost:8080/"
        },
        "id": "oFw7CwsfnRM2",
        "outputId": "dd9bb91e-34c8-491f-a699-ef29f8f299ef"
      },
      "execution_count": null,
      "outputs": [
        {
          "output_type": "stream",
          "name": "stdout",
          "text": [
            "elektro\n"
          ]
        }
      ]
    },
    {
      "cell_type": "code",
      "source": [
        "x = [2, 4.4, 'Roboroarz']\n",
        "x[0] = 'Polibatam'\n",
        "print(x)"
      ],
      "metadata": {
        "colab": {
          "base_uri": "https://localhost:8080/"
        },
        "id": "62r8ZXMunhKy",
        "outputId": "6a8ebf42-22df-4e37-9f22-814bc0e47f77"
      },
      "execution_count": null,
      "outputs": [
        {
          "output_type": "stream",
          "name": "stdout",
          "text": [
            "['Polibatam', 4.4, 'Roboroarz']\n"
          ]
        }
      ]
    },
    {
      "cell_type": "code",
      "source": [
        "# deklarasi variabel list\n",
        "numbers = [20, 60, 80, 100]\n",
        "\n",
        "#cara mengakses elemen dalam variabel list\n",
        "numbers[0]  #20\n",
        "numbers[1]  #60\n",
        "numbers[2]  #80\n",
        "numbers[3]  #100\n",
        "\n",
        "#cara mengubah nilai elemen dalam variabel list\n",
        "numbers[2]  #41\n",
        "numbers[2]  #41\n",
        "\n",
        "print (numbers[1])\n",
        "\n"
      ],
      "metadata": {
        "colab": {
          "base_uri": "https://localhost:8080/"
        },
        "id": "BvUv8-38ocLF",
        "outputId": "bfcdb0b5-4c5b-40c4-8653-a3b9a91a1a7a"
      },
      "execution_count": null,
      "outputs": [
        {
          "output_type": "stream",
          "name": "stdout",
          "text": [
            "60\n"
          ]
        }
      ]
    },
    {
      "cell_type": "code",
      "source": [
        "# deklarasi variabel list\n",
        "numbers = [23, 43, 15, 34]\n",
        "print(\"List awal:\", numbers)\n",
        "\n",
        "# cara mengakses elemen dalam variabel list\n",
        "print(\"Elemen indeks 0:\", numbers[0])  # 23\n",
        "print(\"Elemen indeks 1:\", numbers[1])  # 43\n",
        "print(\"Elemen indeks 2:\", numbers[2])  # 15\n",
        "print(\"Elemen indeks 3:\", numbers[3])  # 34\n",
        "\n",
        "# cara mengubah nilai elemen dalam variabel list\n",
        "numbers[2] = 51\n",
        "numbers[3] = 51\n",
        "print(\"List setelah diubah:\", numbers)\n",
        "\n",
        "# print tiap elemen setelah perubahan\n",
        "print(\"Elemen indeks 0:\", numbers[0])\n",
        "print(\"Elemen indeks 1:\", numbers[1])\n",
        "print(\"Elemen indeks 2:\", numbers[2])\n",
        "print(\"Elemen indeks 3:\", numbers[3])\n"
      ],
      "metadata": {
        "colab": {
          "base_uri": "https://localhost:8080/"
        },
        "id": "d8LV3n2Razja",
        "outputId": "0f4989da-7151-4bd6-e64d-9029943cdccf"
      },
      "execution_count": 2,
      "outputs": [
        {
          "output_type": "stream",
          "name": "stdout",
          "text": [
            "List awal: [23, 43, 15, 34]\n",
            "Elemen indeks 0: 23\n",
            "Elemen indeks 1: 43\n",
            "Elemen indeks 2: 15\n",
            "Elemen indeks 3: 34\n",
            "List setelah diubah: [23, 43, 51, 51]\n",
            "Elemen indeks 0: 23\n",
            "Elemen indeks 1: 43\n",
            "Elemen indeks 2: 51\n",
            "Elemen indeks 3: 51\n"
          ]
        }
      ]
    },
    {
      "cell_type": "code",
      "source": [
        "# deklarasi variabel list numbers\n",
        "numbers = [1, 2, 3]\n",
        "print(\"List awal:\", numbers)\n",
        "\n",
        "# menambahkan elemen di indeks ke-4\n",
        "numbers.insert(3, 5)  # indeks dimulai dari 0, jadi ke-4 = index 3\n",
        "print(\"Setelah insert di indeks ke-4:\", numbers)\n",
        "\n",
        "# mengubah elemen di indeks ke-4\n",
        "numbers[3] = 4\n",
        "print(\"Setelah ubah elemen di indeks ke-4:\", numbers)\n",
        "\n",
        "# menghapus elemen di indeks ke-2\n",
        "numbers.pop(2)\n",
        "print(\"Setelah hapus elemen di indeks ke-2:\", numbers)\n"
      ],
      "metadata": {
        "colab": {
          "base_uri": "https://localhost:8080/"
        },
        "id": "a_DXYDetcE5x",
        "outputId": "e2e79e6b-6802-466c-cc29-4722f2d84f7f"
      },
      "execution_count": 1,
      "outputs": [
        {
          "output_type": "stream",
          "name": "stdout",
          "text": [
            "List awal: [1, 2, 3]\n",
            "Setelah insert di indeks ke-4: [1, 2, 3, 5]\n",
            "Setelah ubah elemen di indeks ke-4: [1, 2, 3, 4]\n",
            "Setelah hapus elemen di indeks ke-2: [1, 2, 4]\n"
          ]
        }
      ]
    },
    {
      "cell_type": "code",
      "source": [
        "# deklarasi variabel list numbers\n",
        "numbers = [1, 2, 3]\n",
        "print(\"List awal:\", numbers)\n",
        "\n",
        "# menambahkan elemen di indeks ke-4\n",
        "numbers.insert(3, 5)   # indeks ke-4 = posisi index 3 (karena mulai dari 0)\n",
        "print(\"Setelah insert di indeks ke-4:\", numbers)\n",
        "\n",
        "# mengubah elemen di indeks ke-4\n",
        "numbers[3] = 4\n",
        "print(\"Setelah ubah elemen di indeks ke-4:\", numbers)\n",
        "\n",
        "# menghapus elemen di indeks ke-2\n",
        "numbers.pop(2)\n",
        "print(\"Setelah hapus elemen di indeks ke-2:\", numbers)\n"
      ],
      "metadata": {
        "colab": {
          "base_uri": "https://localhost:8080/"
        },
        "id": "zweM2XsuW5Zj",
        "outputId": "f47c0fbe-8924-44e2-f6a9-8236cba048e2"
      },
      "execution_count": 3,
      "outputs": [
        {
          "output_type": "stream",
          "name": "stdout",
          "text": [
            "List awal: [1, 2, 3]\n",
            "Setelah insert di indeks ke-4: [1, 2, 3, 5]\n",
            "Setelah ubah elemen di indeks ke-4: [1, 2, 3, 4]\n",
            "Setelah hapus elemen di indeks ke-2: [1, 2, 4]\n"
          ]
        }
      ]
    },
    {
      "cell_type": "code",
      "source": [
        "# deklarasi variabel list\n",
        "myList = [1, \"Rumah\", 4.5, True, [\"Kamar mandi\", \"Kamar tidur\"]]\n",
        "print(\"List awal:\", myList)\n",
        "\n",
        "# cara mengakses elemen dalam variabel list\n",
        "print(\"Elemen indeks 0:\", myList[0])   # 1\n",
        "print(\"Elemen indeks 1:\", myList[1])   # \"Rumah\"\n",
        "print(\"Elemen indeks 2:\", myList[2])   # 4.5\n",
        "print(\"Elemen indeks 3:\", myList[3])   # True\n",
        "print(\"Elemen indeks 4:\", myList[4])   # [\"Kamar mandi\", \"Kamar tidur\"]\n",
        "\n",
        "# cara mengakses elemen dalam sublist\n",
        "print(\"Elemen sublist indeks [4][0]:\", myList[4][0])  # \"Kamar mandi\"\n",
        "print(\"Elemen sublist indeks [4][1]:\", myList[4][1])  # \"Kamar tidur\"\n"
      ],
      "metadata": {
        "colab": {
          "base_uri": "https://localhost:8080/"
        },
        "id": "CROrCYGyXKrG",
        "outputId": "9b2b007c-ec31-4a16-ee2c-5d6317d51ec8"
      },
      "execution_count": 4,
      "outputs": [
        {
          "output_type": "stream",
          "name": "stdout",
          "text": [
            "List awal: [1, 'Rumah', 4.5, True, ['Kamar mandi', 'Kamar tidur']]\n",
            "Elemen indeks 0: 1\n",
            "Elemen indeks 1: Rumah\n",
            "Elemen indeks 2: 4.5\n",
            "Elemen indeks 3: True\n",
            "Elemen indeks 4: ['Kamar mandi', 'Kamar tidur']\n",
            "Elemen sublist indeks [4][0]: Kamar mandi\n",
            "Elemen sublist indeks [4][1]: Kamar tidur\n"
          ]
        }
      ]
    }
  ]
}