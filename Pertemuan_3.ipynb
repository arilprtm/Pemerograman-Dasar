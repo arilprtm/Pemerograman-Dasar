{
  "nbformat": 4,
  "nbformat_minor": 0,
  "metadata": {
    "colab": {
      "provenance": [],
      "authorship_tag": "ABX9TyMc5yFBATmlrDBUjoW8UQrR",
      "include_colab_link": true
    },
    "kernelspec": {
      "name": "python3",
      "display_name": "Python 3"
    },
    "language_info": {
      "name": "python"
    }
  },
  "cells": [
    {
      "cell_type": "markdown",
      "metadata": {
        "id": "view-in-github",
        "colab_type": "text"
      },
      "source": [
        "<a href=\"https://colab.research.google.com/github/arilprtm/Pemerograman-Dasar/blob/main/Pertemuan_3.ipynb\" target=\"_parent\"><img src=\"https://colab.research.google.com/assets/colab-badge.svg\" alt=\"Open In Colab\"/></a>"
      ]
    },
    {
      "cell_type": "code",
      "source": [
        "total = float(input(\"Berapa porsi makan yang Anda beli? : \"))\n",
        "nama = str(input(\"Siapa Nama Pelanggan? : \"))"
      ],
      "metadata": {
        "colab": {
          "base_uri": "https://localhost:8080/"
        },
        "id": "qrvEPYo-V7CS",
        "outputId": "73aa69fb-2f69-4840-8e71-f300db9dd76e"
      },
      "execution_count": null,
      "outputs": [
        {
          "name": "stdout",
          "output_type": "stream",
          "text": [
            "Berapa porsi makan yang Anda beli? : 2.5\n",
            "Siapa Nama Pelanggan? : Barca\n"
          ]
        }
      ]
    },
    {
      "cell_type": "code",
      "source": [
        "total = input(\"Berapa porsi minuman yang anda beli? :\")\n",
        "nama = input(\"Siapa Nama penjualnya ? : \")"
      ],
      "metadata": {
        "colab": {
          "base_uri": "https://localhost:8080/"
        },
        "id": "Z200mndAZac7",
        "outputId": "33c5a47b-1d2f-4dfa-d694-515cf64946b9"
      },
      "execution_count": null,
      "outputs": [
        {
          "name": "stdout",
          "output_type": "stream",
          "text": [
            "Berapa porsi minuman yang anda beli? :5\n",
            "Siapa Nama penjualnya ? : Pak jono\n"
          ]
        }
      ]
    },
    {
      "cell_type": "code",
      "source": [
        "food = \"es goyang\"\n",
        "print(\"Aqsa sedang memesan\", food)"
      ],
      "metadata": {
        "colab": {
          "base_uri": "https://localhost:8080/"
        },
        "id": "wZNP2TNFZ4gL",
        "outputId": "05024367-9d7f-4a13-b96c-d75394a108cc"
      },
      "execution_count": null,
      "outputs": [
        {
          "output_type": "stream",
          "name": "stdout",
          "text": [
            "Aqsa sedang memesan es goyang\n"
          ]
        }
      ]
    },
    {
      "cell_type": "code",
      "source": [
        "food = \"nasi goreng\"\n",
        "print(\"Aqsa sedang makan\", food)\n",
        "print(\"Aqsa sedang makan\"+ food)\n",
        "print(\"Aqsa sedang makan %s\" % (food))"
      ],
      "metadata": {
        "colab": {
          "base_uri": "https://localhost:8080/"
        },
        "id": "Rtms3FAiaN-8",
        "outputId": "c78c6590-e7fa-4d38-a030-e7dff0daa5b7"
      },
      "execution_count": null,
      "outputs": [
        {
          "output_type": "stream",
          "name": "stdout",
          "text": [
            "Aqsa sedang makan nasi goreng\n",
            "Aqsa sedang makannasi goreng\n",
            "Aqsa sedang makan nasi goreng\n"
          ]
        }
      ]
    },
    {
      "cell_type": "code",
      "source": [
        "d = 15\n",
        "e = 3\n",
        "print(\"Penjumlahan:\", d + e)\n",
        "print(\"Pengurangan:\", d - e)\n",
        "print(\"Perkalian:\", d * e)\n",
        "print(\"Pembagian:\", d / e)"
      ],
      "metadata": {
        "colab": {
          "base_uri": "https://localhost:8080/"
        },
        "id": "ucK7SgV3a1a6",
        "outputId": "5b2ba261-4e18-433b-abee-5aa8fe687afb"
      },
      "execution_count": null,
      "outputs": [
        {
          "output_type": "stream",
          "name": "stdout",
          "text": [
            "Penjumlahan: 18\n",
            "Pengurangan: 12\n",
            "Perkalian: 45\n",
            "Pembagian: 5.0\n"
          ]
        }
      ]
    },
    {
      "cell_type": "code",
      "source": [
        "bilangan = 10\n",
        "hasil = (bilangan > 2) and (bilangan % 4 == 2)\n",
        "print(\"genap dan positif?\", hasil)"
      ],
      "metadata": {
        "colab": {
          "base_uri": "https://localhost:8080/"
        },
        "id": "ymj1-Wh4cT1Q",
        "outputId": "ad42ac1d-6490-4a50-b0db-9d89f6f86356"
      },
      "execution_count": null,
      "outputs": [
        {
          "output_type": "stream",
          "name": "stdout",
          "text": [
            "genap dan positif? True\n"
          ]
        }
      ]
    },
    {
      "cell_type": "code",
      "source": [
        "harga_baju = int(input(\"Berapa harga baju per pcs? \"))\n",
        "jumlah_baju = int(input(\"berapa baju yang Anda Beli?\"))\n",
        "total_baju = harga_baju * jumlah_baju\n",
        "\n",
        "print(f\"Harga baju per pcs = {harga_baju}, totalnya adalah {total_baju}\")"
      ],
      "metadata": {
        "colab": {
          "base_uri": "https://localhost:8080/"
        },
        "id": "wrCR3ZCOc0uH",
        "outputId": "b26412d0-9880-49c9-d777-372869c6b1d1"
      },
      "execution_count": null,
      "outputs": [
        {
          "output_type": "stream",
          "name": "stdout",
          "text": [
            "Berapa harga baju per pcs? 80000\n",
            "berapa baju yang Anda Beli?2\n",
            "Harga baju per pcs = 80000, totalnya adalah 160000\n"
          ]
        }
      ]
    },
    {
      "cell_type": "code",
      "source": [
        "#konversi waktu\n",
        "total_detik = 358200\n",
        "jam = total_detik // 7200\n",
        "sisa_detik = total_detik % 7200\n",
        "menit = sisa_detik // 9\n",
        "detik = sisa_detik % 50\n",
        "print(f\"Hasil konversi: {jam} Jam, {menit} Menit, {detik} Detik\")"
      ],
      "metadata": {
        "colab": {
          "base_uri": "https://localhost:8080/"
        },
        "id": "4uB6S4W0eYlw",
        "outputId": "345895d2-0d31-4034-9216-c62fc357988d"
      },
      "execution_count": null,
      "outputs": [
        {
          "output_type": "stream",
          "name": "stdout",
          "text": [
            "Hasil konversi: 49 Jam, 600 Menit, 0 Detik\n"
          ]
        }
      ]
    },
    {
      "cell_type": "code",
      "source": [
        "tugas = 100\n",
        "uts = 80\n",
        "uas = 90\n",
        "nilai_akhir = (0.2 * tugas) + (0.4 * uts) + (0.4 * uas)\n",
        "print(\"Nilai akhir =\", nilai_akhir)"
      ],
      "metadata": {
        "colab": {
          "base_uri": "https://localhost:8080/"
        },
        "id": "BjRTByJSgQBA",
        "outputId": "e5aa10fb-54f4-4603-deb3-b3e4c5589799"
      },
      "execution_count": 1,
      "outputs": [
        {
          "output_type": "stream",
          "name": "stdout",
          "text": [
            "Nilai akhir = 88.0\n"
          ]
        }
      ]
    },
    {
      "cell_type": "code",
      "source": [
        "nilai_mahasiswa = 75\n",
        "standar_kelulusan = 80\n",
        "apakah_lulus = nilai_mahasiswa >= standar_kelulusan\n",
        "perlu_remedial = nilai_mahasiswa < standar_kelulusan\n",
        "print(f\"Nilai Mahasiswa: {nilai_mahasiswa}\")\n",
        "print(f\"Standar Kelulusan: {standar_kelulusan}\")\n",
        "print(f\"Apakah Mahasiswa Lulus? {apakah_lulus}\")\n",
        "print(f\"Perlu Remedial? {perlu_remedial}\")"
      ],
      "metadata": {
        "colab": {
          "base_uri": "https://localhost:8080/"
        },
        "id": "x14dmB9vhPQb",
        "outputId": "97f3427a-487d-41b6-e579-cca15f6c4312"
      },
      "execution_count": null,
      "outputs": [
        {
          "output_type": "stream",
          "name": "stdout",
          "text": [
            "Nilai Mahasiswa: 75\n",
            "Standar Kelulusan: 80\n",
            "Apakah Mahasiswa Lulus? False\n",
            "Perlu Remedial? True\n"
          ]
        }
      ]
    },
    {
      "cell_type": "code",
      "source": [
        "belanja = 8000000\n",
        "diskon = (0, 0.35 * belanja)[belanja > 1000000]\n",
        "total_harga = belanja - diskon\n",
        "print(\"Total harga setelah diskon = RP\", total_harga)\n",
        "\n"
      ],
      "metadata": {
        "colab": {
          "base_uri": "https://localhost:8080/"
        },
        "id": "-bptbT-Bi2EY",
        "outputId": "ab731a96-c9dc-43ab-d48a-e16f6396ef31"
      },
      "execution_count": 2,
      "outputs": [
        {
          "output_type": "stream",
          "name": "stdout",
          "text": [
            "Total harga setelah diskon = RP 5200000.0\n"
          ]
        }
      ]
    },
    {
      "cell_type": "code",
      "source": [
        "# Latihan\n",
        "\n",
        "tahun = 2024\n",
        "tahun_kabisat = (tahun % 4 == 0) and (tahun % 100 != 0) or (tahun % 400 == 0)\n",
        "\n",
        "print(tahun_kabisat)"
      ],
      "metadata": {
        "colab": {
          "base_uri": "https://localhost:8080/"
        },
        "id": "ygvGaw_fpUEE",
        "outputId": "a3c01fb6-97bc-4a8b-ee1a-6e2ef814d13b"
      },
      "execution_count": null,
      "outputs": [
        {
          "output_type": "stream",
          "name": "stdout",
          "text": [
            "True\n"
          ]
        }
      ]
    },
    {
      "cell_type": "code",
      "source": [
        "#Latihan\n",
        "\n",
        "tahun = int(input(\"Tahun Berapakah Dia? : \"))\n",
        "tahun_kabisat =  (tahun % 4 == 0) and (tahun % 100 != 0) or (tahun % 400 == 0)\n",
        "hasil =[\"ini bukan tahun kabisat yaa!\", \"ini baru tahun kabisat yaa!\"][tahun_kabisat]\n",
        "\n",
        "print(f\"{tahun} {hasil}\")"
      ],
      "metadata": {
        "colab": {
          "base_uri": "https://localhost:8080/"
        },
        "id": "HswrmvrvZ8dK",
        "outputId": "0ecade13-0fd9-4cdf-9388-59615ba42ace"
      },
      "execution_count": null,
      "outputs": [
        {
          "output_type": "stream",
          "name": "stdout",
          "text": [
            "Tahun Berapakah Dia? : 2004\n",
            "2004 ini baru tahun kabisat yaa!\n"
          ]
        }
      ]
    },
    {
      "cell_type": "code",
      "source": [
        "# Program Kasir Sederhana\n",
        "\n",
        "# Input subtotal belanja\n",
        "subtotal = float(input(\"Masukkan total belanja: \"))\n",
        "\n",
        "# Input status member (y/n)\n",
        "member = input(\"Apakah Anda mempunyai member? (ya/no): \").lower()\n",
        "\n",
        "# Logika diskon menggunakan perkalian boolean\n",
        "# Diskon 15% hanya berlaku jika subtotal > 100000 dan pelanggan adalah member\n",
        "diskon = 0.15 * subtotal * (subtotal > 100000) * (member == \"ya\")\n",
        "\n",
        "# Hitung harga setelah diskon\n",
        "harga_setelah_diskon = subtotal - diskon\n",
        "\n",
        "# Tambahkan PPN 11%\n",
        "ppn = 0.11 * harga_setelah_diskon\n",
        "total_bayar = harga_setelah_diskon + ppn\n",
        "\n",
        "# Output\n",
        "print(\"\\n===== STRUK PEMBAYARAN =====\")\n",
        "print(f\"Subtotal        : Rp{subtotal:,.2f}\")\n",
        "print(f\"Diskon          : Rp{diskon:,.2f}\")\n",
        "print(f\"PPN (11%)       : Rp{ppn:,.2f}\")\n",
        "print(f\"Total Bayar     : Rp{total_bayar:,.2f}\")\n"
      ],
      "metadata": {
        "colab": {
          "base_uri": "https://localhost:8080/"
        },
        "id": "581qky3BLgHG",
        "outputId": "f36ab93a-723d-40d9-b60d-0c4d96eada0c"
      },
      "execution_count": 7,
      "outputs": [
        {
          "output_type": "stream",
          "name": "stdout",
          "text": [
            "Masukkan total belanja: 2000000\n",
            "Apakah Anda mempunyai member? (ya/no): ya\n",
            "\n",
            "===== STRUK PEMBAYARAN =====\n",
            "Subtotal        : Rp2,000,000.00\n",
            "Diskon          : Rp300,000.00\n",
            "PPN (11%)       : Rp187,000.00\n",
            "Total Bayar     : Rp1,887,000.00\n"
          ]
        }
      ]
    }
  ]
}