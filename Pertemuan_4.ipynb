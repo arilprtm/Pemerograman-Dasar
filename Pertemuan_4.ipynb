{
  "nbformat": 4,
  "nbformat_minor": 0,
  "metadata": {
    "colab": {
      "provenance": [],
      "authorship_tag": "ABX9TyMpW2w4oERkti5QgSlonaUB",
      "include_colab_link": true
    },
    "kernelspec": {
      "name": "python3",
      "display_name": "Python 3"
    },
    "language_info": {
      "name": "python"
    }
  },
  "cells": [
    {
      "cell_type": "markdown",
      "metadata": {
        "id": "view-in-github",
        "colab_type": "text"
      },
      "source": [
        "<a href=\"https://colab.research.google.com/github/arilprtm/Pemerograman-Dasar/blob/main/Pertemuan_4.ipynb\" target=\"_parent\"><img src=\"https://colab.research.google.com/assets/colab-badge.svg\" alt=\"Open In Colab\"/></a>"
      ]
    },
    {
      "cell_type": "code",
      "execution_count": null,
      "metadata": {
        "colab": {
          "base_uri": "https://localhost:8080/"
        },
        "id": "PY7U9Ol5Slsc",
        "outputId": "172e6d23-d51f-4e5c-ed9e-43f0c32f6053"
      },
      "outputs": [
        {
          "output_type": "stream",
          "name": "stdout",
          "text": [
            "pengunjung adalah orang sudah besar.\n"
          ]
        }
      ],
      "source": [
        "# Variabel untuk menyimpan pengunjung\n",
        "umur: int = 20\n",
        "\n",
        "# program hanya akan mencetak pesan jika umur diatas 17\n",
        "if umur > 18:\n",
        "    print(\"pengunjung adalah orang sudah besar.\")"
      ]
    },
    {
      "cell_type": "code",
      "source": [
        "username = input(\"Masukan username: \")\n",
        "password = input(\"Masukan password: \")\n",
        "\n",
        "if username == \"aqsa_donesi\" and password == \"5432\" :\n",
        "    print(\"Login berhasil\")\n",
        "else:\n",
        "    print(\"login gagal\")"
      ],
      "metadata": {
        "colab": {
          "base_uri": "https://localhost:8080/"
        },
        "id": "2IfhAllkUr-7",
        "outputId": "a6cd8dee-d68e-4e23-dc93-8f93ec4d5052"
      },
      "execution_count": null,
      "outputs": [
        {
          "output_type": "stream",
          "name": "stdout",
          "text": [
            "Masukan username: aqsa_donesi\n",
            "Masukan password: 5432\n",
            "Login berhasil\n"
          ]
        }
      ]
    },
    {
      "cell_type": "code",
      "source": [
        "total_belanja = input (\"Total belanja: Rp \")\n",
        "bayar = int(total_belanja)\n",
        "if int(total_belanja) > 200000:\n",
        "  print(\"Selamat Karena Belanja > Rp. 200.000 anda mendapat Voucher Makan\")\n",
        "  print(\"dan diskon 10%\")\n",
        "  diskon = int(total_belanja) * 10/100\n",
        "  bayar = int(total_belanja) - diskon\n",
        "  print(\"Total yang harus dibayar: Rp %s\" % bayar)\n",
        "  print(\"Terimakasih sudah belanja di Toko Barlo yaa\")\n",
        "  print(\"Kami Tunggu kunjungan anda selanjutnya\")\n",
        "  print(\"Babai sampai jumpa lagi yaa.\")"
      ],
      "metadata": {
        "colab": {
          "base_uri": "https://localhost:8080/"
        },
        "id": "WPHua0csVY0L",
        "outputId": "d43f1d7b-62db-4105-9dba-01cf31379f15"
      },
      "execution_count": null,
      "outputs": [
        {
          "output_type": "stream",
          "name": "stdout",
          "text": [
            "Total belanja: Rp 800000\n",
            "Selamat Karena Belanja > Rp. 200.000 anda mendapat Voucher Makan\n",
            "dan diskon 10%\n",
            "Total yang harus dibayar: Rp 720000.0\n",
            "Terimakasih sudah belanja di Toko Barlo yaa\n",
            "Kami Tunggu kunjungan anda selanjutnya\n",
            "Babai sampai jumpa lagi yaa.\n"
          ]
        }
      ]
    },
    {
      "cell_type": "code",
      "source": [
        "# Variabel untuk memeriksa apakah anda notifikasi baru\n",
        "ada_notifikasi_baru: bool = True\n",
        "\n",
        "if ada_notifikasi_baru:\n",
        "  print(\"Wahh anda memiliki pesan baru lohh!\")"
      ],
      "metadata": {
        "colab": {
          "base_uri": "https://localhost:8080/"
        },
        "id": "Ff1EpH7XX9Jt",
        "outputId": "8cb673e1-6065-4b47-c0d1-44cae0051624"
      },
      "execution_count": null,
      "outputs": [
        {
          "output_type": "stream",
          "name": "stdout",
          "text": [
            "Wahh anda memiliki pesan baru lohh!\n"
          ]
        }
      ]
    },
    {
      "cell_type": "code",
      "source": [
        "# Contoh Program Percabangan Ganda\n",
        "umur = int(input(\"Masukkan umur kamu: \"))\n",
        "\n",
        "if umur >= 18:\n",
        "    print(\"Kamu boleh membuat KTP.\")\n",
        "else:\n",
        "    print(\"Kamu belum boleh membuat KTP.\")\n"
      ],
      "metadata": {
        "colab": {
          "base_uri": "https://localhost:8080/"
        },
        "id": "IhL1iaLGSNuc",
        "outputId": "67de3d37-fd99-48b1-84bd-0d1c3c6e2c98"
      },
      "execution_count": null,
      "outputs": [
        {
          "output_type": "stream",
          "name": "stdout",
          "text": [
            "Masukkan umur kamu: 18\n",
            "Kamu boleh membuat KTP.\n"
          ]
        }
      ]
    },
    {
      "cell_type": "code",
      "source": [
        "total_belanja = 50000\n",
        "\n",
        "if total_belanja > 30000:\n",
        "    diskon = total_belanja * 0.15\n",
        "    total_bayar = total_belanja - diskon\n",
        "    print(f\"Anda mendapat diskon! Total bayar: Rp {total_bayar}\")\n",
        "else:\n",
        "    print(f\"Total bayar: Rp {total_belanja}\")\n",
        "\n"
      ],
      "metadata": {
        "colab": {
          "base_uri": "https://localhost:8080/"
        },
        "id": "lWbkiPzSZjJm",
        "outputId": "cb9d6cbd-fd10-4845-b62b-b8feb460bb67"
      },
      "execution_count": null,
      "outputs": [
        {
          "output_type": "stream",
          "name": "stdout",
          "text": [
            "Anda mendapat diskon! Total bayar: Rp 42500.0\n"
          ]
        }
      ]
    },
    {
      "cell_type": "code",
      "source": [
        "angka = int(input(\"Masukan bilangan: \"))\n",
        "\n",
        "if angka % 2 == 0:\n",
        "    print(\"Bilangan Genap\")\n",
        "else:\n",
        "    print(\"Bilangan Ganjil\")"
      ],
      "metadata": {
        "colab": {
          "base_uri": "https://localhost:8080/"
        },
        "id": "ysUI6iYTakuR",
        "outputId": "910b1aef-dc30-484c-8184-e99998ef5e9d"
      },
      "execution_count": null,
      "outputs": [
        {
          "output_type": "stream",
          "name": "stdout",
          "text": [
            "Masukan bilangan: 6\n",
            "Bilangan Genap\n"
          ]
        }
      ]
    },
    {
      "cell_type": "code",
      "source": [
        "# Contoh Penggunaan IF Majemuk\n",
        "nilai = 90\n",
        "if nilai >= 95:\n",
        "  print(\"Luar biasa! Nilai A\")\n",
        "elif nilai >= 80:\n",
        "  print(\"Bagus! Nilai B\")\n",
        "elif nilai >= 65:\n",
        "  print(\"Cukup, Nilai C\")\n",
        "else:\n",
        "  print(\"Nilai kurang, perlu belajar lebih giat.\")"
      ],
      "metadata": {
        "colab": {
          "base_uri": "https://localhost:8080/"
        },
        "id": "qgSBEdQ_bRP9",
        "outputId": "cce1caee-7908-4d3f-cc85-81a26dcb443c"
      },
      "execution_count": null,
      "outputs": [
        {
          "output_type": "stream",
          "name": "stdout",
          "text": [
            "Bagus! Nilai B\n"
          ]
        }
      ]
    },
    {
      "cell_type": "code",
      "source": [
        "# Menentukan jenis diskon berdasarkan hari\n",
        "hari : str = \"Minggu\"\n",
        "\n",
        "if hari == \"Minggu\" or hari == \"Senin\":\n",
        "    diskon: float = 0.20\n",
        "    print(f\"Selamt! Kamu mendapat diskon akhir pekan sebesar {diskon*100}%.\")\n",
        "elif hari == \"Jumat\":\n",
        "    diskon: float = 0.15\n",
        "    print(f\"Diskon spesial Jumat! kamu mendapat potongan {diskon*100}%.\")\n",
        "else:\n",
        "    diskon: float = 0.05\n",
        "    print(f\"Kamu mendapat diskon hari biasa sebesar {diskon*100}%.\")"
      ],
      "metadata": {
        "colab": {
          "base_uri": "https://localhost:8080/"
        },
        "id": "02afotdHcQ7B",
        "outputId": "74867a7c-1585-4366-e120-dbf1a351a234"
      },
      "execution_count": null,
      "outputs": [
        {
          "output_type": "stream",
          "name": "stdout",
          "text": [
            "Selamt! Kamu mendapat diskon akhir pekan sebesar 20.0%.\n"
          ]
        }
      ]
    },
    {
      "cell_type": "code",
      "source": [
        "rupiah = int(input(\"Masukan jumlah uang (Rp): \"))\n",
        "print(\"1. Dollar (USD)\")\n",
        "print(\"2. Euro (EUR)\")\n",
        "print(\"3. Yen (JPY)\")\n",
        "pilih = int(input(\"pilih konversi (1/2/3): \"))\n",
        "\n",
        "if pilih == 1:\n",
        "    print(\"Dalam Dollar:\", rupiah / 20000)\n",
        "elif pilih == 2:\n",
        "    print(\"Dalam Euro:\", rupiah / 21000)\n",
        "elif pilih ==3:\n",
        "    print(\"Dalam Yen\", rupiah / 150)\n",
        "else:\n",
        "    print(\"Pilihan tidak vaild\")"
      ],
      "metadata": {
        "colab": {
          "base_uri": "https://localhost:8080/"
        },
        "id": "cxu10P_QeKxu",
        "outputId": "249f80f7-a2b6-4adf-b987-4ee35ad3f37f"
      },
      "execution_count": null,
      "outputs": [
        {
          "output_type": "stream",
          "name": "stdout",
          "text": [
            "Masukan jumlah uang (Rp): 1000000\n",
            "1. Dollar (USD)\n",
            "2. Euro (EUR)\n",
            "3. Yen (JPY)\n",
            "pilih konversi (1/2/3): 1\n",
            "Dalam Dollar: 50.0\n"
          ]
        }
      ]
    }
  ]
}